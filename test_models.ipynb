{
 "cells": [
  {
   "cell_type": "code",
   "execution_count": 1,
   "metadata": {},
   "outputs": [],
   "source": [
    "import torch\n",
    "import os\n",
    "import numpy as np\n",
    "from glob import glob\n",
    "\n",
    "\n",
    "import torch \n",
    "from torch.utils.data import Dataset,Subset, DataLoader, TensorDataset, ConcatDataset\n",
    "import torchvision\n",
    "import os\n",
    "from PIL import Image, ImageFile\n",
    "from torchvision import transforms, datasets\n",
    "from pathlib import Path\n",
    "# split validation set into new train and validation set\n",
    "from sklearn.model_selection import train_test_split\n",
    "#plot examples\n",
    "import matplotlib.pyplot as plt\n",
    "import numpy as np\n",
    "from tqdm import tqdm\n",
    "import torch.nn as nn\n",
    "torch.manual_seed(42)\n",
    "np.random.seed(42)\n",
    "import copy\n",
    "\n",
    "from baselineCNN import *\n",
    "\n",
    "ImageFile.LOAD_TRUNCATED_IMAGES = True\n",
    "\n"
   ]
  },
  {
   "cell_type": "code",
   "execution_count": 2,
   "metadata": {},
   "outputs": [],
   "source": [
    "dataset_path = Path('./../wildfire-prediction-dataset')\n",
    "\n",
    "pretrain_path = dataset_path / 'train'\n",
    "val_path = dataset_path / 'valid'\n",
    "test_path = dataset_path / 'test'\n",
    "\n",
    "dataset = datasets.ImageFolder(test_path, transform=transforms.ToTensor())\n",
    "\n",
    "def get_all_datasets(pretrain_path, val_path, test_path, transforms):\n",
    "    \n",
    "    pretrain_dataset = datasets.ImageFolder(pretrain_path, transform=transforms['pretrain'])\n",
    "    val_dataset = datasets.ImageFolder(val_path, transform=transforms['valid'])\n",
    "    test_dataset = datasets.ImageFolder(test_path, transform=transforms['test'])\n",
    "    train_idx, validation_idx = train_test_split(np.arange(len(val_dataset)),\n",
    "                                             test_size=0.2,\n",
    "                                             random_state=42,\n",
    "                                             shuffle=True,\n",
    "                                             stratify=val_dataset.targets)\n",
    "    train_dataset = Subset(val_dataset, train_idx)\n",
    "    val_dataset = Subset(val_dataset, validation_idx)\n",
    "    \n",
    "    return pretrain_dataset, train_dataset, val_dataset, test_dataset\n",
    "\n",
    "    num_epochs = 10\n",
    "batch_size = 32  \n",
    "\n",
    "\n",
    "# Data transformations\n",
    "data_transforms = {\n",
    "    'pretrain': transforms.Compose([\n",
    "        transforms.ToTensor(),\n",
    "    ]),\n",
    "    'valid': transforms.Compose([\n",
    "        transforms.ToTensor(),\n",
    "    ]),\n",
    "    'test': transforms.Compose([\n",
    "        transforms.ToTensor(),\n",
    "    ]),\n",
    "}\n",
    "_, _, _, test_dataset = get_all_datasets(pretrain_path, val_path, test_path, data_transforms)\n",
    "\n",
    "test_data_loader = DataLoader(test_dataset, batch_size=batch_size, shuffle=False, num_workers=6)\n"
   ]
  },
  {
   "cell_type": "code",
   "execution_count": 5,
   "metadata": {},
   "outputs": [],
   "source": [
    "def validate(model, data_loader, loss_fn, device):\n",
    "    model.eval()\n",
    "    losses = []\n",
    "    correct_predictions = 0\n",
    "    with torch.no_grad():\n",
    "        for x, y in tqdm(data_loader):\n",
    "            x = x.to(device).half()  # Convert to float16\n",
    "            y = y.to(device)\n",
    "            with torch.amp.autocast('cuda'):\n",
    "                y_hat = model(x)\n",
    "                loss = loss_fn(y_hat, y)\n",
    "            losses.append(loss.item())\n",
    "            correct_predictions += (y == y_hat.argmax(1)).sum().item()\n",
    "    return losses, correct_predictions"
   ]
  },
  {
   "cell_type": "code",
   "execution_count": 6,
   "metadata": {},
   "outputs": [
    {
     "name": "stdout",
     "output_type": "stream",
     "text": [
      "Using device: cuda\n",
      "\n",
      "Evaluating model: finetuned_model_iter0.pth\n"
     ]
    },
    {
     "name": "stderr",
     "output_type": "stream",
     "text": [
      "/tmp/ipykernel_3884464/3390369386.py:21: FutureWarning: You are using `torch.load` with `weights_only=False` (the current default value), which uses the default pickle module implicitly. It is possible to construct malicious pickle data which will execute arbitrary code during unpickling (See https://github.com/pytorch/pytorch/blob/main/SECURITY.md#untrusted-models for more details). In a future release, the default value for `weights_only` will be flipped to `True`. This limits the functions that could be executed during unpickling. Arbitrary objects will no longer be allowed to be loaded via this mode unless they are explicitly allowlisted by the user via `torch.serialization.add_safe_globals`. We recommend you start setting `weights_only=True` for any use case where you don't have full control of the loaded file. Please open an issue on GitHub for any issues related to this experimental feature.\n",
      "  checkpoint = torch.load(model_path, map_location=device)\n",
      "100%|██████████| 197/197 [00:14<00:00, 13.25it/s]\n"
     ]
    },
    {
     "name": "stdout",
     "output_type": "stream",
     "text": [
      "Test Loss: 0.2455 Test Accuracy: 0.9330\n",
      "\n",
      "Evaluating model: finetuned_model_iter1.pth\n"
     ]
    },
    {
     "name": "stderr",
     "output_type": "stream",
     "text": [
      "100%|██████████| 197/197 [00:14<00:00, 13.44it/s]\n"
     ]
    },
    {
     "name": "stdout",
     "output_type": "stream",
     "text": [
      "Test Loss: 0.2708 Test Accuracy: 0.8879\n",
      "\n",
      "Evaluating model: finetuned_model_iter2.pth\n"
     ]
    },
    {
     "name": "stderr",
     "output_type": "stream",
     "text": [
      "100%|██████████| 197/197 [00:14<00:00, 13.32it/s]\n"
     ]
    },
    {
     "name": "stdout",
     "output_type": "stream",
     "text": [
      "Test Loss: 0.4745 Test Accuracy: 0.7814\n",
      "\n",
      "Evaluating model: baseline.pth\n"
     ]
    },
    {
     "name": "stderr",
     "output_type": "stream",
     "text": [
      "100%|██████████| 197/197 [00:14<00:00, 13.49it/s]\n"
     ]
    },
    {
     "name": "stdout",
     "output_type": "stream",
     "text": [
      "Test Loss: 0.1906 Test Accuracy: 0.9417\n",
      "\n",
      "Evaluating model: finetuned_model2_iter1.pth\n"
     ]
    },
    {
     "name": "stderr",
     "output_type": "stream",
     "text": [
      "100%|██████████| 197/197 [00:14<00:00, 13.34it/s]\n"
     ]
    },
    {
     "name": "stdout",
     "output_type": "stream",
     "text": [
      "Test Loss: 0.2548 Test Accuracy: 0.9121\n",
      "\n",
      "Evaluating model: finetuned_model2_iter0.pth\n"
     ]
    },
    {
     "name": "stderr",
     "output_type": "stream",
     "text": [
      "100%|██████████| 197/197 [00:14<00:00, 13.15it/s]"
     ]
    },
    {
     "name": "stdout",
     "output_type": "stream",
     "text": [
      "Test Loss: 0.2390 Test Accuracy: 0.9379\n",
      "\n",
      "Model Rankings (by accuracy):\n",
      "--------------------------------------------------\n",
      "1. baseline.pth\n",
      "   Accuracy: 0.9417\n",
      "   Loss: 0.1906\n",
      "2. finetuned_model2_iter0.pth\n",
      "   Accuracy: 0.9379\n",
      "   Loss: 0.2390\n",
      "3. finetuned_model_iter0.pth\n",
      "   Accuracy: 0.9330\n",
      "   Loss: 0.2455\n",
      "4. finetuned_model2_iter1.pth\n",
      "   Accuracy: 0.9121\n",
      "   Loss: 0.2548\n",
      "5. finetuned_model_iter1.pth\n",
      "   Accuracy: 0.8879\n",
      "   Loss: 0.2708\n",
      "6. finetuned_model_iter2.pth\n",
      "   Accuracy: 0.7814\n",
      "   Loss: 0.4745\n",
      "--------------------------------------------------\n",
      "\n",
      "Best model: baseline.pth\n",
      "Path: saved_models/baseline.pth\n",
      "Accuracy: 0.9417\n",
      "Loss: 0.1906\n"
     ]
    },
    {
     "name": "stderr",
     "output_type": "stream",
     "text": [
      "\n"
     ]
    }
   ],
   "source": [
    "\n",
    "# Set device\n",
    "device = torch.device(\"cuda\" if torch.cuda.is_available() else \"cpu\")\n",
    "print(f\"Using device: {device}\")\n",
    "\n",
    "# Get all model files from the folder\n",
    "folder_path = \"saved_models\"\n",
    "model_files = glob(os.path.join(folder_path, \"*.pth\"))\n",
    "\n",
    "# Dictionary to store results\n",
    "results = {}\n",
    "\n",
    "# Evaluate each model\n",
    "criterion = nn.CrossEntropyLoss()\n",
    "\n",
    "for model_path in model_files:\n",
    "    model_name = os.path.basename(model_path)\n",
    "    print(f\"\\nEvaluating model: {model_name}\")\n",
    "    \n",
    "    # Initialize model and load weights\n",
    "    model = BaselineModel()  # Using your existing baseline model\n",
    "    checkpoint = torch.load(model_path, map_location=device)\n",
    "    model.load_state_dict(checkpoint['model_state_dict'])\n",
    "    model = model.to(device)\n",
    "    \n",
    "    # Evaluate\n",
    "    model.eval()\n",
    "    test_loss, correct_predictions = validate(model, test_data_loader, criterion, device)\n",
    "    accuracy = correct_predictions / len(test_dataset)\n",
    "    avg_loss = np.mean(test_loss)\n",
    "    \n",
    "    # Store results\n",
    "    results[model_name] = {\n",
    "        'accuracy': accuracy,\n",
    "        'loss': avg_loss,\n",
    "        'path': model_path\n",
    "    }\n",
    "    \n",
    "    print(f'Test Loss: {avg_loss:.4f} Test Accuracy: {accuracy:.4f}')\n",
    "\n",
    "# Rank models by accuracy\n",
    "ranked_by_accuracy = sorted(\n",
    "    [(name, data['accuracy']) for name, data in results.items()],\n",
    "    key=lambda x: x[1],\n",
    "    reverse=True\n",
    ")\n",
    "\n",
    "# Print rankings\n",
    "print(\"\\nModel Rankings (by accuracy):\")\n",
    "print(\"-\" * 50)\n",
    "for i, (model_name, accuracy) in enumerate(ranked_by_accuracy, 1):\n",
    "    print(f\"{i}. {model_name}\")\n",
    "    print(f\"   Accuracy: {accuracy:.4f}\")\n",
    "    print(f\"   Loss: {results[model_name]['loss']:.4f}\")\n",
    "print(\"-\" * 50)\n",
    "\n",
    "# Print best model details\n",
    "best_model_name = ranked_by_accuracy[0][0]\n",
    "print(f\"\\nBest model: {best_model_name}\")\n",
    "print(f\"Path: {results[best_model_name]['path']}\")\n",
    "print(f\"Accuracy: {results[best_model_name]['accuracy']:.4f}\")\n",
    "print(f\"Loss: {results[best_model_name]['loss']:.4f}\")"
   ]
  }
 ],
 "metadata": {
  "kernelspec": {
   "display_name": "Python torch",
   "language": "python",
   "name": "torch"
  },
  "language_info": {
   "codemirror_mode": {
    "name": "ipython",
    "version": 3
   },
   "file_extension": ".py",
   "mimetype": "text/x-python",
   "name": "python",
   "nbconvert_exporter": "python",
   "pygments_lexer": "ipython3",
   "version": "3.9.20"
  }
 },
 "nbformat": 4,
 "nbformat_minor": 2
}
