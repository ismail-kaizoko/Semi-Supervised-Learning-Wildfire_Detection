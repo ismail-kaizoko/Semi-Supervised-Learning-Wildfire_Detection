{
 "cells": [
  {
   "cell_type": "code",
   "execution_count": 1,
   "metadata": {},
   "outputs": [],
   "source": [
    "import torch \n",
    "from torch.utils.data import Dataset,Subset, DataLoader, TensorDataset, ConcatDataset\n",
    "import torchvision\n",
    "import os\n",
    "from PIL import Image, ImageFile\n",
    "from torchvision import transforms, datasets\n",
    "from pathlib import Path\n",
    "# split validation set into new train and validation set\n",
    "from sklearn.model_selection import train_test_split\n",
    "#plot examples\n",
    "import matplotlib.pyplot as plt\n",
    "import numpy as np\n",
    "from tqdm import tqdm\n",
    "import torch.nn as nn\n",
    "torch.manual_seed(42)\n",
    "np.random.seed(42)\n",
    "import copy\n",
    "from baselineCNN import *\n",
    "\n",
    "ImageFile.LOAD_TRUNCATED_IMAGES = True"
   ]
  },
  {
   "cell_type": "code",
   "execution_count": 2,
   "metadata": {},
   "outputs": [],
   "source": [
    "dataset_path = Path('./../wildfire-prediction-dataset')\n"
   ]
  },
  {
   "cell_type": "code",
   "execution_count": 3,
   "metadata": {},
   "outputs": [],
   "source": [
    "pretrain_path = dataset_path / 'train'\n",
    "val_path = dataset_path / 'valid'\n",
    "test_path = dataset_path / 'test'"
   ]
  },
  {
   "cell_type": "code",
   "execution_count": 4,
   "metadata": {},
   "outputs": [],
   "source": [
    "dataset = datasets.ImageFolder(test_path, transform=transforms.ToTensor())"
   ]
  },
  {
   "cell_type": "code",
   "execution_count": 5,
   "metadata": {},
   "outputs": [],
   "source": [
    "def get_all_datasets(pretrain_path, val_path, test_path, transforms):\n",
    "    \n",
    "    pretrain_dataset = datasets.ImageFolder(pretrain_path, transform=transforms['pretrain'])\n",
    "    val_dataset = datasets.ImageFolder(val_path, transform=transforms['valid'])\n",
    "    test_dataset = datasets.ImageFolder(test_path, transform=transforms['test'])\n",
    "    train_idx, validation_idx = train_test_split(np.arange(len(val_dataset)),\n",
    "                                             test_size=0.2,\n",
    "                                             random_state=42,\n",
    "                                             shuffle=True,\n",
    "                                             stratify=val_dataset.targets)\n",
    "    train_dataset = Subset(val_dataset, train_idx)\n",
    "    val_dataset = Subset(val_dataset, validation_idx)\n",
    "    \n",
    "    return pretrain_dataset, train_dataset, val_dataset, test_dataset"
   ]
  },
  {
   "cell_type": "code",
   "execution_count": 6,
   "metadata": {},
   "outputs": [],
   "source": [
    "num_epochs = 10\n",
    "batch_size = 64     \n",
    "\n",
    "\n",
    "# Data transformations\n",
    "data_transforms = {\n",
    "    'pretrain': transforms.Compose([\n",
    "        transforms.ToTensor(),\n",
    "    ]),\n",
    "    'valid': transforms.Compose([\n",
    "        transforms.ToTensor(),\n",
    "    ]),\n",
    "    'test': transforms.Compose([\n",
    "        transforms.ToTensor(),\n",
    "    ]),\n",
    "}\n",
    "unlabeled, train_dataset, val_dataset, test_dataset = get_all_datasets(pretrain_path, val_path, test_path, data_transforms)\n",
    "\n",
    "train_data_loader = DataLoader(train_dataset, batch_size=batch_size, shuffle=True, num_workers=6)\n",
    "val_data_loader = DataLoader(val_dataset, batch_size=batch_size, shuffle=False, num_workers=6)\n",
    "test_data_loader = DataLoader(test_dataset, batch_size=batch_size, shuffle=False, num_workers=6)\n",
    "\n",
    "unlabeled_loader = DataLoader(unlabeled, batch_size=batch_size, shuffle=True, num_workers=6)"
   ]
  },
  {
   "cell_type": "code",
   "execution_count": 7,
   "metadata": {},
   "outputs": [],
   "source": [
    "optimizer = torch.optim.Adam(baseline.parameters(), lr=1e-4)\n",
    "criterion = nn.CrossEntropyLoss()\n",
    "device = torch.device(\"cuda\" if torch.cuda.is_available() else \"cpu\")"
   ]
  },
  {
   "cell_type": "code",
   "execution_count": 8,
   "metadata": {},
   "outputs": [],
   "source": [
    "def validate(model, data_loader, loss_fn, device):\n",
    "    model.eval()\n",
    "    losses = []\n",
    "    correct_predictions = 0\n",
    "    with torch.no_grad():\n",
    "        for x, y in tqdm(data_loader):\n",
    "            x = x.to(device).half()  # Convert to float16\n",
    "            y = y.to(device)\n",
    "            with torch.amp.autocast('cuda'):\n",
    "                y_hat = model(x)\n",
    "                loss = loss_fn(y_hat, y)\n",
    "            losses.append(loss.item())\n",
    "            correct_predictions += (y == y_hat.argmax(1)).sum().item()\n",
    "    return losses, correct_predictions\n",
    "\n",
    "def train_one_epoch(model, optimizer, data_loader, loss_fn, device):\n",
    "    model.train()\n",
    "    losses = []\n",
    "    for x, y in tqdm(data_loader):\n",
    "        x = x.float().to(device).half()  # Convert to float16\n",
    "        y = y.to(device)\n",
    "        optimizer.zero_grad()\n",
    "        with torch.amp.autocast('cuda'):  # Use automatic mixed precision\n",
    "            y_hat = model(x)\n",
    "            loss = loss_fn(y_hat, y)\n",
    "        loss.backward()\n",
    "        optimizer.step()\n",
    "        losses.append(loss.item())\n",
    "    return losses\n",
    "\n",
    "def train_model(model, num_epochs, optimizer, train_loader, val_loader, criterion, device, best_model_path):\n",
    "    model.train()\n",
    "    best_val_accuracy = 0\n",
    "\n",
    "    for epoch in range(num_epochs):\n",
    "        print(f'Epoch {epoch + 1}/{num_epochs}')\n",
    "        train_loss = train_one_epoch(model, optimizer, train_loader, criterion, device)\n",
    "        val_loss, correct_predictions = validate(model, val_loader, criterion, device)\n",
    "        val_accuracy = correct_predictions / len(val_dataset)\n",
    "\n",
    "        if val_accuracy > best_val_accuracy:\n",
    "            best_val_accuracy = val_accuracy\n",
    "            torch.save({\n",
    "                'epoch': epoch,\n",
    "                'model_state_dict': model.state_dict(),\n",
    "                'optimizer_state_dict': optimizer.state_dict(),\n",
    "                'val_accuracy': val_accuracy,\n",
    "            }, best_model_path)\n",
    "        \n",
    "        print(f'Train Loss: {np.mean(train_loss):.4f} Validation Loss: {np.mean(val_loss):.4f} Validation Accuracy: {val_accuracy:.4f}')\n",
    "\n",
    "\n",
    "def pseudo_label_dataset(model, unlabeled_loader, device, confidence_threshold=0.95):\n",
    "    model.eval()\n",
    "    pseudo_inputs = []\n",
    "    pseudo_labels = []\n",
    "    \n",
    "    with torch.no_grad():\n",
    "        for inputs, _ in tqdm(unlabeled_loader, desc=\"Generating pseudo-labels\"):\n",
    "            inputs = inputs.to(device)\n",
    "            outputs = model(inputs)\n",
    "            probabilities = torch.softmax(outputs, dim=1)\n",
    "            max_probs, preds = torch.max(probabilities, 1)\n",
    "            \n",
    "            # Select samples with high confidence\n",
    "            confident_mask = max_probs >= confidence_threshold\n",
    "            if confident_mask.sum() > 0:\n",
    "                confident_inputs = inputs[confident_mask].cpu()\n",
    "                confident_labels = preds[confident_mask].cpu()\n",
    "                \n",
    "                pseudo_inputs.append(confident_inputs)\n",
    "                pseudo_labels.append(confident_labels)\n",
    "    \n",
    "    if not pseudo_inputs:\n",
    "        return None\n",
    "    \n",
    "    # Combine all selected samples\n",
    "    pseudo_inputs = torch.cat(pseudo_inputs, 0)\n",
    "    pseudo_labels = torch.cat(pseudo_labels, 0)\n",
    "    \n",
    "    pseudo_dataset = TensorDataset(pseudo_inputs, pseudo_labels.long())\n",
    "    print(f\"Generated {len(pseudo_dataset)} pseudo-labeled samples from {len(unlabeled_loader.dataset)} with a confidence threshold = {confidence_threshold}\")\n",
    "    return pseudo_dataset\n",
    "\n",
    "def custom_collate(batch):\n",
    "    images, labels = zip(*batch)\n",
    "    images = torch.stack(images, 0)\n",
    "    # Convert all labels to a tensor\n",
    "    labels = torch.tensor(labels)\n",
    "    return images, labels\n"
   ]
  },
  {
   "cell_type": "code",
   "execution_count": 13,
   "metadata": {},
   "outputs": [],
   "source": [
    "model = baseline"
   ]
  },
  {
   "cell_type": "code",
   "execution_count": 15,
   "metadata": {},
   "outputs": [
    {
     "name": "stdout",
     "output_type": "stream",
     "text": [
      "<class 'torch.nn.modules.container.Sequential'>\n"
     ]
    }
   ],
   "source": [
    "print(type(model))"
   ]
  },
  {
   "cell_type": "code",
   "execution_count": 18,
   "metadata": {},
   "outputs": [
    {
     "name": "stderr",
     "output_type": "stream",
     "text": [
      "/tmp/ipykernel_108339/117638860.py:2: FutureWarning: You are using `torch.load` with `weights_only=False` (the current default value), which uses the default pickle module implicitly. It is possible to construct malicious pickle data which will execute arbitrary code during unpickling (See https://github.com/pytorch/pytorch/blob/main/SECURITY.md#untrusted-models for more details). In a future release, the default value for `weights_only` will be flipped to `True`. This limits the functions that could be executed during unpickling. Arbitrary objects will no longer be allowed to be loaded via this mode unless they are explicitly allowlisted by the user via `torch.serialization.add_safe_globals`. We recommend you start setting `weights_only=True` for any use case where you don't have full control of the loaded file. Please open an issue on GitHub for any issues related to this experimental feature.\n",
      "  checkpoint = torch.load(\"baseline.pth\")\n"
     ]
    },
    {
     "data": {
      "text/plain": [
       "Sequential(\n",
       "  (0): Conv2d(3, 32, kernel_size=(3, 3), stride=(1, 1), padding=(1, 1))\n",
       "  (1): BatchNorm2d(32, eps=1e-05, momentum=0.1, affine=True, track_running_stats=True)\n",
       "  (2): ReLU()\n",
       "  (3): Dropout(p=0.3, inplace=False)\n",
       "  (4): MaxPool2d(kernel_size=2, stride=2, padding=0, dilation=1, ceil_mode=False)\n",
       "  (5): Conv2d(32, 64, kernel_size=(3, 3), stride=(1, 1), padding=(1, 1))\n",
       "  (6): BatchNorm2d(64, eps=1e-05, momentum=0.1, affine=True, track_running_stats=True)\n",
       "  (7): ReLU()\n",
       "  (8): Dropout(p=0.3, inplace=False)\n",
       "  (9): MaxPool2d(kernel_size=2, stride=2, padding=0, dilation=1, ceil_mode=False)\n",
       "  (10): Conv2d(64, 128, kernel_size=(3, 3), stride=(1, 1), padding=(1, 1))\n",
       "  (11): BatchNorm2d(128, eps=1e-05, momentum=0.1, affine=True, track_running_stats=True)\n",
       "  (12): ReLU()\n",
       "  (13): Dropout(p=0.3, inplace=False)\n",
       "  (14): MaxPool2d(kernel_size=2, stride=2, padding=0, dilation=1, ceil_mode=False)\n",
       "  (15): Flatten(start_dim=1, end_dim=-1)\n",
       "  (16): LazyLinear(in_features=0, out_features=128, bias=True)\n",
       "  (17): ReLU()\n",
       "  (18): Linear(in_features=128, out_features=2, bias=True)\n",
       ")"
      ]
     },
     "execution_count": 18,
     "metadata": {},
     "output_type": "execute_result"
    }
   ],
   "source": [
    "model = baseline\n",
    "checkpoint = torch.load(\"baseline.pth\")\n",
    "model.load_state_dict(checkpoint['model_state_dict'])\n",
    "model.to(device)"
   ]
  },
  {
   "cell_type": "code",
   "execution_count": 19,
   "metadata": {},
   "outputs": [
    {
     "name": "stderr",
     "output_type": "stream",
     "text": [
      "100%|██████████| 99/99 [00:13<00:00,  7.49it/s]"
     ]
    },
    {
     "name": "stdout",
     "output_type": "stream",
     "text": [
      "Test Loss: 0.1905 Test Accuracy: 0.9417\n"
     ]
    },
    {
     "name": "stderr",
     "output_type": "stream",
     "text": [
      "\n"
     ]
    }
   ],
   "source": [
    "# Test the model\n",
    "model.eval()\n",
    "test_loss, correct_predictions = validate(model, test_data_loader, criterion, device)\n",
    "base_accuracy = correct_predictions / len(test_dataset)\n",
    "print(f'Test Loss: {np.mean(test_loss):.4f} Test Accuracy: {base_accuracy:.4f}')"
   ]
  },
  {
   "cell_type": "code",
   "execution_count": 20,
   "metadata": {},
   "outputs": [],
   "source": [
    "confidence_threshold = 0.9  # Initial confidence threshold\n",
    "initial_acc = base_accuracy\n",
    "num_iterations = 3\n",
    "num_epochs = 10"
   ]
  },
  {
   "cell_type": "code",
   "execution_count": 21,
   "metadata": {},
   "outputs": [
    {
     "name": "stdout",
     "output_type": "stream",
     "text": [
      "----------------------------------------------------------------------------------------------------\n",
      "\n",
      "\n",
      " Pseudo-labeling iteration 1/3\n"
     ]
    },
    {
     "name": "stderr",
     "output_type": "stream",
     "text": [
      "Generating pseudo-labels: 100%|██████████| 473/473 [03:49<00:00,  2.06it/s]\n"
     ]
    },
    {
     "name": "stdout",
     "output_type": "stream",
     "text": [
      "Generated 20158 pseudo-labeled samples\n",
      "Training with 25198 samples (5040 original labeled + 20158 pseudo-labeled)\n",
      "Remaining unlabeled samples: 10092\n",
      "Epoch 1/10\n"
     ]
    },
    {
     "name": "stderr",
     "output_type": "stream",
     "text": [
      "100%|██████████| 394/394 [02:14<00:00,  2.93it/s]\n",
      "100%|██████████| 20/20 [00:09<00:00,  2.14it/s]\n"
     ]
    },
    {
     "name": "stdout",
     "output_type": "stream",
     "text": [
      "Train Loss: 0.0119 Validation Loss: 0.2063 Validation Accuracy: 0.9230\n",
      "Epoch 2/10\n"
     ]
    },
    {
     "name": "stderr",
     "output_type": "stream",
     "text": [
      "100%|██████████| 394/394 [02:08<00:00,  3.06it/s]\n",
      "100%|██████████| 20/20 [00:08<00:00,  2.42it/s]\n"
     ]
    },
    {
     "name": "stdout",
     "output_type": "stream",
     "text": [
      "Train Loss: 0.0118 Validation Loss: 0.2183 Validation Accuracy: 0.9119\n",
      "Epoch 3/10\n"
     ]
    },
    {
     "name": "stderr",
     "output_type": "stream",
     "text": [
      "100%|██████████| 394/394 [02:06<00:00,  3.12it/s]\n",
      "100%|██████████| 20/20 [00:08<00:00,  2.48it/s]\n"
     ]
    },
    {
     "name": "stdout",
     "output_type": "stream",
     "text": [
      "Train Loss: 0.0106 Validation Loss: 0.2118 Validation Accuracy: 0.9183\n",
      "Epoch 4/10\n"
     ]
    },
    {
     "name": "stderr",
     "output_type": "stream",
     "text": [
      "100%|██████████| 394/394 [02:04<00:00,  3.17it/s]\n",
      "100%|██████████| 20/20 [00:08<00:00,  2.39it/s]\n"
     ]
    },
    {
     "name": "stdout",
     "output_type": "stream",
     "text": [
      "Train Loss: 0.0115 Validation Loss: 0.2012 Validation Accuracy: 0.9262\n",
      "Epoch 5/10\n"
     ]
    },
    {
     "name": "stderr",
     "output_type": "stream",
     "text": [
      "100%|██████████| 394/394 [02:05<00:00,  3.14it/s]\n",
      "100%|██████████| 20/20 [00:08<00:00,  2.37it/s]\n"
     ]
    },
    {
     "name": "stdout",
     "output_type": "stream",
     "text": [
      "Train Loss: 0.0116 Validation Loss: 0.2089 Validation Accuracy: 0.9214\n",
      "Epoch 6/10\n"
     ]
    },
    {
     "name": "stderr",
     "output_type": "stream",
     "text": [
      "100%|██████████| 394/394 [02:05<00:00,  3.14it/s]\n",
      "100%|██████████| 20/20 [00:09<00:00,  2.16it/s]\n"
     ]
    },
    {
     "name": "stdout",
     "output_type": "stream",
     "text": [
      "Train Loss: 0.0115 Validation Loss: 0.2073 Validation Accuracy: 0.9230\n",
      "Epoch 7/10\n"
     ]
    },
    {
     "name": "stderr",
     "output_type": "stream",
     "text": [
      "100%|██████████| 394/394 [02:05<00:00,  3.14it/s]\n",
      "100%|██████████| 20/20 [00:08<00:00,  2.25it/s]\n"
     ]
    },
    {
     "name": "stdout",
     "output_type": "stream",
     "text": [
      "Train Loss: 0.0109 Validation Loss: 0.2147 Validation Accuracy: 0.9143\n",
      "Epoch 8/10\n"
     ]
    },
    {
     "name": "stderr",
     "output_type": "stream",
     "text": [
      "100%|██████████| 394/394 [02:06<00:00,  3.11it/s]\n",
      "100%|██████████| 20/20 [00:09<00:00,  2.20it/s]\n"
     ]
    },
    {
     "name": "stdout",
     "output_type": "stream",
     "text": [
      "Train Loss: 0.0115 Validation Loss: 0.2012 Validation Accuracy: 0.9254\n",
      "Epoch 9/10\n"
     ]
    },
    {
     "name": "stderr",
     "output_type": "stream",
     "text": [
      "100%|██████████| 394/394 [02:04<00:00,  3.16it/s]\n",
      "100%|██████████| 20/20 [00:09<00:00,  2.20it/s]\n"
     ]
    },
    {
     "name": "stdout",
     "output_type": "stream",
     "text": [
      "Train Loss: 0.0111 Validation Loss: 0.1989 Validation Accuracy: 0.9254\n",
      "Epoch 10/10\n"
     ]
    },
    {
     "name": "stderr",
     "output_type": "stream",
     "text": [
      "100%|██████████| 394/394 [02:07<00:00,  3.09it/s]\n",
      "100%|██████████| 20/20 [00:09<00:00,  2.14it/s]\n"
     ]
    },
    {
     "name": "stdout",
     "output_type": "stream",
     "text": [
      "Train Loss: 0.0110 Validation Loss: 0.2095 Validation Accuracy: 0.9198\n",
      "----------------------------------------------------------------------------------------------------\n",
      "\n",
      "\n",
      " Pseudo-labeling iteration 2/3\n"
     ]
    },
    {
     "ename": "AttributeError",
     "evalue": "'NoneType' object has no attribute 'eval'",
     "output_type": "error",
     "traceback": [
      "\u001b[0;31m---------------------------------------------------------------------------\u001b[0m",
      "\u001b[0;31mAttributeError\u001b[0m                            Traceback (most recent call last)",
      "Cell \u001b[0;32mIn[21], line 20\u001b[0m\n\u001b[1;32m     17\u001b[0m unlabeled_loader \u001b[38;5;241m=\u001b[39m DataLoader(remaining_unlabeled_dataset, batch_size\u001b[38;5;241m=\u001b[39mbatch_size)\n\u001b[1;32m     19\u001b[0m \u001b[38;5;66;03m# Generate pseudo-labels for the remaining unlabeled data\u001b[39;00m\n\u001b[0;32m---> 20\u001b[0m pseudo_dataset \u001b[38;5;241m=\u001b[39m \u001b[43mpseudo_label_dataset\u001b[49m\u001b[43m(\u001b[49m\u001b[43mmodel\u001b[49m\u001b[43m,\u001b[49m\u001b[43m \u001b[49m\u001b[43munlabeled_loader\u001b[49m\u001b[43m,\u001b[49m\u001b[43m \u001b[49m\u001b[43mdevice\u001b[49m\u001b[43m,\u001b[49m\u001b[43m \u001b[49m\u001b[43mconfidence_threshold\u001b[49m\u001b[43m)\u001b[49m\n\u001b[1;32m     23\u001b[0m \u001b[38;5;28;01mif\u001b[39;00m pseudo_dataset \u001b[38;5;129;01mis\u001b[39;00m \u001b[38;5;28;01mNone\u001b[39;00m \u001b[38;5;129;01mor\u001b[39;00m \u001b[38;5;28mlen\u001b[39m(pseudo_dataset) \u001b[38;5;241m==\u001b[39m \u001b[38;5;241m0\u001b[39m:\n\u001b[1;32m     24\u001b[0m     \u001b[38;5;28mprint\u001b[39m(\u001b[38;5;124mf\u001b[39m\u001b[38;5;124m\"\u001b[39m\u001b[38;5;124mNo confident samples found at threshold \u001b[39m\u001b[38;5;132;01m{\u001b[39;00mconfidence_threshold\u001b[38;5;132;01m}\u001b[39;00m\u001b[38;5;124m. Lowering threshold.\u001b[39m\u001b[38;5;124m\"\u001b[39m)\n",
      "Cell \u001b[0;32mIn[17], line 54\u001b[0m, in \u001b[0;36mpseudo_label_dataset\u001b[0;34m(model, unlabeled_loader, device, confidence_threshold)\u001b[0m\n\u001b[1;32m     53\u001b[0m \u001b[38;5;28;01mdef\u001b[39;00m \u001b[38;5;21mpseudo_label_dataset\u001b[39m(model, unlabeled_loader, device, confidence_threshold\u001b[38;5;241m=\u001b[39m\u001b[38;5;241m0.95\u001b[39m):\n\u001b[0;32m---> 54\u001b[0m     \u001b[43mmodel\u001b[49m\u001b[38;5;241;43m.\u001b[39;49m\u001b[43meval\u001b[49m()\n\u001b[1;32m     55\u001b[0m     pseudo_inputs \u001b[38;5;241m=\u001b[39m []\n\u001b[1;32m     56\u001b[0m     pseudo_labels \u001b[38;5;241m=\u001b[39m []\n",
      "\u001b[0;31mAttributeError\u001b[0m: 'NoneType' object has no attribute 'eval'"
     ]
    }
   ],
   "source": [
    "\n",
    "\n",
    "# Keep track of original labeled dataset\n",
    "original_train_dataset = train_dataset\n",
    "\n",
    "# Keep track of unlabeled samples and which ones have been pseudo-labeled\n",
    "remaining_unlabeled = list(range(len(unlabeled)))\n",
    "all_pseudo_labeled_indices = set()\n",
    "all_pseudo_labeled_datasets = []\n",
    "\n",
    "baseline = copy.deepcopy(model)\n",
    "\n",
    "for iteration in range(num_iterations):\n",
    "    print(\"-\"*100)\n",
    "    print(f\"\\n Pseudo-labeling iteration {iteration+1}/{num_iterations}\")\n",
    "    \n",
    "    # Create a loader only for remaining unlabeled data\n",
    "    remaining_unlabeled_dataset = torch.utils.data.Subset(unlabeled, remaining_unlabeled)\n",
    "    unlabeled_loader = DataLoader(remaining_unlabeled_dataset, batch_size=batch_size)\n",
    "    \n",
    "    # Generate pseudo-labels for the remaining unlabeled data\n",
    "    pseudo_dataset = pseudo_label_dataset(model, unlabeled_loader, device, confidence_threshold)\n",
    "    \n",
    "\n",
    "    if pseudo_dataset is None or len(pseudo_dataset) == 0:\n",
    "        print(f\"No confident samples found at threshold {confidence_threshold}. Lowering threshold.\")\n",
    "        confidence_threshold *= 0.9  # Reduce threshold\n",
    "\n",
    "    else : \n",
    "        # Store this iteration's pseudo-labeled dataset\n",
    "        all_pseudo_labeled_datasets.append(pseudo_dataset)\n",
    "\n",
    "        # Remove pseudo-labeled indices from remaining_unlabeled\n",
    "        # We need to track which indices from the original dataset were used\n",
    "        pseudo_indices = []\n",
    "        batch_idx = 0\n",
    "        for data, _ in unlabeled_loader:\n",
    "            outputs = model(data.to(device))\n",
    "            probabilities = torch.softmax(outputs, dim=1)\n",
    "            max_probs, _ = torch.max(probabilities, 1)\n",
    "            confident_mask = max_probs >= confidence_threshold\n",
    "            \n",
    "            for j, is_confident in enumerate(confident_mask):\n",
    "                if is_confident:\n",
    "                    if batch_idx * batch_size + j < len(remaining_unlabeled):\n",
    "                        global_idx = remaining_unlabeled[batch_idx * batch_size + j]\n",
    "                        pseudo_indices.append(global_idx)\n",
    "                        all_pseudo_labeled_indices.add(global_idx)\n",
    "            batch_idx += 1\n",
    "\n",
    "        # Update remaining unlabeled indices\n",
    "        remaining_unlabeled = [idx for idx in remaining_unlabeled if idx not in all_pseudo_labeled_indices]\n",
    "\n",
    "        # Combine original labeled data with ALL pseudo-labeled data so far\n",
    "        all_datasets = [original_train_dataset] + all_pseudo_labeled_datasets\n",
    "        combined_dataset = ConcatDataset(all_datasets)\n",
    "        combined_loader = DataLoader(combined_dataset, batch_size=batch_size, shuffle=True, collate_fn=custom_collate)\n",
    "\n",
    "        # Train with combined data\n",
    "        model = baseline.to(device)  # Reinitialize model\n",
    "\n",
    "        print(f\"Training with {len(combined_dataset)} samples ({len(original_train_dataset)} original labeled + {sum(len(ds) for ds in all_pseudo_labeled_datasets)} pseudo-labeled)\")\n",
    "        print(f\"Remaining unlabeled samples: {len(remaining_unlabeled)}\")\n",
    "\n",
    "        best_model_path = f\"fintuned_model_iter{iteration}\"\n",
    "        model = train_model(model, num_epochs, optimizer, combined_loader, val_data_loader, criterion, device, best_model_path)\n",
    "\n"
   ]
  }
 ],
 "metadata": {
  "kernelspec": {
   "display_name": "Python torch",
   "language": "python",
   "name": "torch"
  },
  "language_info": {
   "codemirror_mode": {
    "name": "ipython",
    "version": 3
   },
   "file_extension": ".py",
   "mimetype": "text/x-python",
   "name": "python",
   "nbconvert_exporter": "python",
   "pygments_lexer": "ipython3",
   "version": "3.9.20"
  }
 },
 "nbformat": 4,
 "nbformat_minor": 2
}
